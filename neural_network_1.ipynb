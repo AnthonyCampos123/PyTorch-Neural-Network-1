{
  "nbformat": 4,
  "nbformat_minor": 0,
  "metadata": {
    "colab": {
      "provenance": [],
      "authorship_tag": "ABX9TyPeD8LBNtWSPw4p7VYFj/QF",
      "include_colab_link": true
    },
    "kernelspec": {
      "name": "python3",
      "display_name": "Python 3"
    },
    "language_info": {
      "name": "python"
    }
  },
  "cells": [
    {
      "cell_type": "markdown",
      "metadata": {
        "id": "view-in-github",
        "colab_type": "text"
      },
      "source": [
        "<a href=\"https://colab.research.google.com/github/AnthonyCampos123/PyTorch-Neural-Network-1/blob/main/neural_network_1.ipynb\" target=\"_parent\"><img src=\"https://colab.research.google.com/assets/colab-badge.svg\" alt=\"Open In Colab\"/></a>"
      ]
    },
    {
      "cell_type": "code",
      "execution_count": null,
      "metadata": {
        "id": "MwmX_sff54Lq"
      },
      "outputs": [],
      "source": [
        "import torch\n",
        "\n",
        "# rest of code above\n",
        "\n",
        "\n",
        "import pandas as pd # to load in data\n",
        "import matplotlib.pyplot as pit # to create chart\n",
        "%matplotlib inline #for juypter notebook\n",
        "\n",
        "# loading in data / iris dataset\n",
        "url = 'https://gist.githubusercontent.com/curran/a08a1080b88344b0c8a7/raw/0e7a9b0a5d22642a06d3d5b9bcbad9890c8ee534/iris.csv'\n",
        "my_df = pd.read_csv(url)# data frame\n",
        "\n",
        "\n",
        "\n"
      ]
    },
    {
      "cell_type": "code",
      "source": [],
      "metadata": {
        "id": "3a-i0Sh28oJE"
      },
      "execution_count": null,
      "outputs": []
    }
  ]
}